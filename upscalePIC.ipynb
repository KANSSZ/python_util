{
 "cells": [
  {
   "cell_type": "code",
   "execution_count": null,
   "metadata": {},
   "outputs": [],
   "source": [
    "from PIL import Image\n",
    "\n",
    "def upscale_image(input_path, output_path, scale_factor):\n",
    "    try:\n",
    "        # Open an image file\n",
    "        img = Image.open(input_path)\n",
    "        print(f\"Original size: {img.size[0]}x{img.size[1]}\")\n",
    "        \n",
    "        # Calculate new size based on scale factor\n",
    "        new_size = (int(img.size[0] * scale_factor), int(img.size[1] * scale_factor))\n",
    "        \n",
    "        # Resize the image (upscale)\n",
    "        upscaled_img = img.resize(new_size, Image.Resampling.LANCZOS)\n",
    "        \n",
    "        # Save the upscaled image\n",
    "        upscaled_img.save(output_path)\n",
    "        print(f\"Upscaled image saved to {output_path}\")\n",
    "        print(f\"New size: {upscaled_img.size[0]}x{upscaled_img.size[1]}\")\n",
    "    \n",
    "    except FileNotFoundError:\n",
    "        print(f\"Error: The file {input_path} does not exist.\")\n",
    "\n",
    "# Usage\n",
    "input_image = 'input.png'\n",
    "output_image = 'output.png'\n",
    "scale_factor = 2  # Scale up the image by a factor of 2 (e.g., 1080p -> 4K)\n",
    "upscale_image(input_image, output_image, scale_factor)\n"
   ]
  }
 ],
 "metadata": {
  "kernelspec": {
   "display_name": "base",
   "language": "python",
   "name": "python3"
  },
  "language_info": {
   "codemirror_mode": {
    "name": "ipython",
    "version": 3
   },
   "file_extension": ".py",
   "mimetype": "text/x-python",
   "name": "python",
   "nbconvert_exporter": "python",
   "pygments_lexer": "ipython3",
   "version": "3.12.4"
  }
 },
 "nbformat": 4,
 "nbformat_minor": 2
}
